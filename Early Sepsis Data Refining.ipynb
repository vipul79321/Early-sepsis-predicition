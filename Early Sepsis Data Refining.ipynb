{
 "cells": [
  {
   "cell_type": "code",
   "execution_count": null,
   "metadata": {},
   "outputs": [],
   "source": [
    "import math\n",
    "import random\n",
    "import numpy as np\n",
    "from scipy.interpolate import interp1d\n",
    "import matplotlib.pyplot as plt\n",
    "import csv\n",
    "import pandas as pd\n",
    "import os"
   ]
  },
  {
   "cell_type": "markdown",
   "metadata": {},
   "source": [
    "# Data Refining"
   ]
  },
  {
   "cell_type": "code",
   "execution_count": null,
   "metadata": {},
   "outputs": [],
   "source": [
    "def shift_and_interpolation(folder):\n",
    "    \n",
    "    for filename in os.listdir(folder):\n",
    "        df= pd.read_csv(os.path.join(folder,filename),index_col=0,header=1)\n",
    "        for column in df.columns:\n",
    "            count_nan=0\n",
    "            count=0\n",
    "            index_first=1000000\n",
    "            index_last=-1\n",
    "            arr= df[column].to_numpy()\n",
    "\n",
    "            for i in range(0,arr.shape[0]):\n",
    "                if(np.isnan(arr[i])):\n",
    "                    count_nan=count_nan+1\n",
    "                else:\n",
    "                    count=count+1\n",
    "                    index_first=min(index_first,i)\n",
    "                    index_last=max(index_last,i)\n",
    "\n",
    "            if(count_nan!=arr.shape[0]):\n",
    "                if(count_nan==arr.shape[0]-1):\n",
    "                    for i in range(0,arr.shape[0]):\n",
    "                        arr[i]=arr[index_first]\n",
    "                else:\n",
    "                    for i in range(0,index_first):\n",
    "                        arr[i]=arr[index_first]\n",
    "                    for i in range(index_last+1,arr.shape[0]):\n",
    "                        arr[i]=arr[index_last]\n",
    "\n",
    "                    list_x=[]\n",
    "                    list_y=[]\n",
    "                    for i in range(index_first,index_last+1):\n",
    "                        if(np.isnan(arr[i])==0):\n",
    "                            list_x.append(i)\n",
    "                            list_y.append(arr[i])\n",
    "                    fun=interp1d(list_x,list_y)\n",
    "                    for i in range(index_first,index_last+1):\n",
    "                        if(np.isnan(arr[i])):\n",
    "                            arr[i]=fun(i)\n",
    "                    df[column]=arr\n",
    "            file=\"E:/train_B/\"+filename\n",
    "            df.to_csv(file)\n",
    "    return     "
   ]
  },
  {
   "cell_type": "code",
   "execution_count": null,
   "metadata": {},
   "outputs": [],
   "source": [
    "shift_and_interpolation('E:/t2')"
   ]
  },
  {
   "cell_type": "code",
   "execution_count": null,
   "metadata": {},
   "outputs": [],
   "source": [
    "def fillcolumns(folder,mylist=[]):\n",
    "    \n",
    "    for filename in os.listdir(folder):\n",
    "        df= pd.read_csv(os.path.join(folder,filename),index_col=0)\n",
    "        i=0\n",
    "        for column in df.columns:\n",
    "            arr=df[column].to_numpy()\n",
    "            for j in range(0,arr.shape[0]):\n",
    "                if(np.isnan(arr[j])):\n",
    "                    arr[j]=mylist[i]\n",
    "            i=i+1\n",
    "            df[column]=arr\n",
    "            \n",
    "        file=\"E:/train_filled_B/\"+filename\n",
    "        df.to_csv(file,index=False)\n",
    "    return"
   ]
  },
  {
   "cell_type": "code",
   "execution_count": null,
   "metadata": {},
   "outputs": [],
   "source": [
    "mylist=[80,100,37,116,78,58,18,1,-2.5,21.3,0.4,7.4,40,99,17,12,56,8.5,107,0.81,0.1,115,1.1,2,3.4,3.9,0.6,0.01,34,9.1,27.3,8.2,217,167,67,1,0,1,0,8,0]\n",
    "fillcolumns('E:/train_A',mylist)\n",
    "fillcolumns('E:/train_B',mylist)"
   ]
  },
  {
   "cell_type": "markdown",
   "metadata": {},
   "source": [
    "# Adding NewFeatures"
   ]
  },
  {
   "cell_type": "code",
   "execution_count": null,
   "metadata": {},
   "outputs": [],
   "source": [
    "def newfeatures(folder):\n",
    "    for filename in os.listdir(folder):\n",
    "        df= pd.read_csv(os.path.join(folder,filename))\n",
    "        arr=df['SepsisLabel'].to_numpy()\n",
    "        df=df.drop(['SepsisLabel'],axis=1)\n",
    "        SOFA_Coagulation=[]\n",
    "        SOFA_Liver=[]\n",
    "        SOFA_Cardiovascular=[]\n",
    "        SOFA_Renal=[]\n",
    "\n",
    "        Q_SOFA=[]\n",
    "\n",
    "        platelets=df['Platelets'].to_numpy()\n",
    "        bilirubin=df['Bilirubin_total'].to_numpy()\n",
    "        cardio=df['MAP'].to_numpy()\n",
    "        renal=df['Creatinine'].to_numpy()\n",
    "\n",
    "        temp=df['Temp'].to_numpy()\n",
    "        HR=df['HR'].to_numpy()\n",
    "        resp=df['Resp'].to_numpy()\n",
    "        paco2=df['PaCO2'].to_numpy()\n",
    "        wbc=df['WBC'].to_numpy()\n",
    "\n",
    "        for i in range (0,df.shape[0]):\n",
    "            if(platelets[i]>=150):\n",
    "                SOFA_Coagulation.append(0)\n",
    "            if(platelets[i]<150 and platelets[i]>=100 ):\n",
    "                SOFA_Coagulation.append(1)\n",
    "            if(platelets[i]<100 and platelets[i]>=50):\n",
    "                SOFA_Coagulation.append(2)\n",
    "            if(platelets[i]<50 and platelets[i]>=20):\n",
    "                SOFA_Coagulation.append(3)\n",
    "            if(platelets[i]<20):\n",
    "                SOFA_Coagulation.append(4)\n",
    "\n",
    "            if(cardio[i]>=70):\n",
    "                SOFA_Cardiovascular.append(0)\n",
    "            else:\n",
    "                SOFA_Cardiovascular.append(1)\n",
    "\n",
    "\n",
    "            if(bilirubin[i]<1.2):\n",
    "                SOFA_Liver.append(0)\n",
    "            if(bilirubin[i]>=1.2 and bilirubin[i]<=2):\n",
    "                SOFA_Liver.append(1)\n",
    "            if(bilirubin[i]>2 and bilirubin[i]<6):\n",
    "                SOFA_Liver.append(2)\n",
    "            if(bilirubin[i]>=6 and bilirubin[i]<12):\n",
    "                SOFA_Liver.append(3)\n",
    "            if(bilirubin[i]>=12):\n",
    "                SOFA_Liver.append(4)\n",
    "\n",
    "            if(renal[i]<=1.2):\n",
    "                SOFA_Renal.append(0)\n",
    "            if(renal[i]>1.2 and renal[i]<2):\n",
    "                SOFA_Renal.append(1)\n",
    "            if(renal[i]>=2 and renal[i]<3.5):\n",
    "                SOFA_Renal.append(2)\n",
    "            if(renal[i]>=3.5 and renal[i]<5):\n",
    "                SOFA_Renal.append(3)\n",
    "            if(renal[i]>=5):\n",
    "                SOFA_Renal.append(4)\n",
    "\n",
    "            p=0\n",
    "            q=0\n",
    "            r=0\n",
    "            if(temp[i]>38 and temp[i]<36):\n",
    "                p=1\n",
    "            if(HR[i]>90):\n",
    "                q=1\n",
    "            if(resp[i]>20 or resp[i]<32):\n",
    "                r=1\n",
    "            if(p+q+r>=2):\n",
    "                Q_SOFA.append(1)\n",
    "            else:\n",
    "                Q_SOFA.append(0)\n",
    "        df['SOFA_Coagulation']=SOFA_Coagulation\n",
    "        df['SOFA_Liver']=SOFA_Liver\n",
    "        df['SOFA_Cardiovascular']=SOFA_Cardiovascular\n",
    "        df['SOFA_Renal']=SOFA_Renal\n",
    "        df['Q_SOFA']=Q_SOFA\n",
    "        df['SepsisLabel']=arr\n",
    "        file=\"E:/train_new_A/\"+filename\n",
    "        df.to_csv(file,index=False)\n",
    "    return"
   ]
  },
  {
   "cell_type": "code",
   "execution_count": null,
   "metadata": {},
   "outputs": [],
   "source": [
    "newfeatures('E:/train_filled_A')"
   ]
  },
  {
   "cell_type": "code",
   "execution_count": null,
   "metadata": {},
   "outputs": [],
   "source": [
    "newfeatures('E:/train_filled_B')"
   ]
  },
  {
   "cell_type": "markdown",
   "metadata": {},
   "source": [
    "# Combining to Single Csv"
   ]
  },
  {
   "cell_type": "code",
   "execution_count": null,
   "metadata": {},
   "outputs": [],
   "source": [
    "super_x = []\n",
    "i=0\n",
    "for filename in os.listdir('E:/train_new_B'):\n",
    "    df1= pd.read_csv(os.path.join('E:/train_new_B',filename))\n",
    "    \n",
    "    super_x.append(df1)\n",
    "    print(i)\n",
    "    i=i+1\n",
    "df = pd.concat(super_x, axis=0)\n",
    "df.to_csv('B_ultimate.csv',index=False)"
   ]
  },
  {
   "cell_type": "code",
   "execution_count": null,
   "metadata": {},
   "outputs": [],
   "source": [
    "data=pd.read_csv('A_ultimate.csv')\n",
    "df1=pd.read_csv('B_ultimate.csv')\n",
    "df=pd.concat([data,df1],axis=0,ignore_index=False)"
   ]
  },
  {
   "cell_type": "markdown",
   "metadata": {},
   "source": [
    "# Normalizing Dataset"
   ]
  },
  {
   "cell_type": "code",
   "execution_count": null,
   "metadata": {},
   "outputs": [],
   "source": [
    "data=pd.read_csv('A_ultimate.csv')\n",
    "df1=pd.read_csv('B_ultimate.csv')\n",
    "df=pd.concat([data,df1],axis=0,ignore_index=False)\n",
    "\n",
    "arr1=df['Gender'].to_numpy()\n",
    "arr2=df['Unit1'].to_numpy()\n",
    "arr3=df['Unit2'].to_numpy()\n",
    "arr4=df['SOFA_Coagulation'].to_numpy()\n",
    "arr5=df['SOFA_Liver'].to_numpy()\n",
    "arr6=df['SOFA_Cardiovascular'].to_numpy()\n",
    "arr7=df['SOFA_Renal'].to_numpy()\n",
    "arr8=df['Q_SOFA'].to_numpy()\n",
    "arr9=df['SepsisLabel'].to_numpy()"
   ]
  },
  {
   "cell_type": "code",
   "execution_count": null,
   "metadata": {},
   "outputs": [],
   "source": [
    "df1=df.drop(['Gender','Unit1','Unit2','SOFA_Coagulation','SOFA_Liver','SOFA_Cardiovascular','SOFA_Renal','Q_SOFA','SepsisLabel'],axis=1)\n",
    "df1.head()"
   ]
  },
  {
   "cell_type": "code",
   "execution_count": null,
   "metadata": {},
   "outputs": [],
   "source": [
    "normalized_df=(df1-df1.mean())/df1.std()"
   ]
  },
  {
   "cell_type": "code",
   "execution_count": null,
   "metadata": {},
   "outputs": [],
   "source": [
    "normalized_df['Gender']=arr1\n",
    "normalized_df['Unit1']=arr2\n",
    "normalized_df['Unit2']=arr3\n",
    "normalized_df['SOFA_Coagulation']=arr4\n",
    "normalized_df['SOFA_Liver']=arr5\n",
    "normalized_df['SOFA_Cardiovascular']=arr6\n",
    "normalized_df['SOFA_Renal']=arr7\n",
    "normalized_df['Q_SOFA']=arr8\n",
    "normalized_df['SepsisLabel']=arr9"
   ]
  },
  {
   "cell_type": "code",
   "execution_count": null,
   "metadata": {},
   "outputs": [],
   "source": [
    "normalized_df.to_csv('normalized_total.csv')"
   ]
  },
  {
   "cell_type": "code",
   "execution_count": null,
   "metadata": {},
   "outputs": [],
   "source": []
  }
 ],
 "metadata": {
  "kernelspec": {
   "display_name": "Python 3",
   "language": "python",
   "name": "python3"
  },
  "language_info": {
   "codemirror_mode": {
    "name": "ipython",
    "version": 3
   },
   "file_extension": ".py",
   "mimetype": "text/x-python",
   "name": "python",
   "nbconvert_exporter": "python",
   "pygments_lexer": "ipython3",
   "version": "3.6.9"
  }
 },
 "nbformat": 4,
 "nbformat_minor": 2
}
