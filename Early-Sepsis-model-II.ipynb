{
 "cells": [
  {
   "cell_type": "code",
   "execution_count": 3,
   "metadata": {},
   "outputs": [],
   "source": [
    "import math\n",
    "import random\n",
    "import numpy as np\n",
    "from scipy.interpolate import interp1d\n",
    "import matplotlib.pyplot as plt\n",
    "import csv\n",
    "import pandas as pd\n",
    "import os\n",
    "import xgboost as clf1\n",
    "from sklearn.model_selection import train_test_split\n",
    "from sklearn.metrics import accuracy_score"
   ]
  },
  {
   "cell_type": "code",
   "execution_count": null,
   "metadata": {},
   "outputs": [],
   "source": []
  },
  {
   "cell_type": "code",
   "execution_count": 4,
   "metadata": {},
   "outputs": [
    {
     "name": "stderr",
     "output_type": "stream",
     "text": [
      "E:\\apps\\anaconda2\\lib\\site-packages\\xgboost\\core.py:587: FutureWarning: Series.base is deprecated and will be removed in a future version\n",
      "  if getattr(data, 'base', None) is not None and \\\n",
      "E:\\apps\\anaconda2\\lib\\site-packages\\xgboost\\core.py:588: FutureWarning: Series.base is deprecated and will be removed in a future version\n",
      "  data.base is not None and isinstance(data, np.ndarray) \\\n"
     ]
    },
    {
     "name": "stdout",
     "output_type": "stream",
     "text": [
      "1\n",
      "2\n",
      "3\n",
      "4\n",
      "5\n",
      "6\n",
      "7\n",
      "8\n",
      "9\n",
      "10\n",
      "11\n",
      "12\n",
      "13\n",
      "14\n",
      "15\n",
      "16\n",
      "17\n",
      "18\n",
      "19\n",
      "20\n",
      "21\n"
     ]
    }
   ],
   "source": [
    "xgb_model = None\n",
    "params = {'eta': 0.55, 'max_depth': 6, 'scale_pos_weight': 1, 'objective': 'reg:squarederror','subsample':0.5,'verbose': 2}\n",
    "i=0\n",
    "for filename in os.listdir('E:/partition1'):\n",
    "        df= pd.read_csv(os.path.join('E:/partition1',filename),index_col=False)\n",
    "        df=df.drop(['EtCO2','BaseExcess','HCO3','AST','Bilirubin_direct','Lactate','TroponinI'],axis=1)\n",
    "        Y_train=df['SepsisLabel']\n",
    "        df=df.drop(['SepsisLabel'],axis=1)\n",
    "        xg_train_1 = clf1.DMatrix(df, label=Y_train)\n",
    "        model = clf1.train(params, xg_train_1, xgb_model=xgb_model,num_boost_round=1000,verbose_eval=True)\n",
    "        model.save_model('model.model')\n",
    "        xgb_model = 'model.model'\n",
    "        i=i+1\n",
    "        print(i)"
   ]
  },
  {
   "cell_type": "code",
   "execution_count": null,
   "metadata": {},
   "outputs": [
    {
     "name": "stdout",
     "output_type": "stream",
     "text": [
      "              precision    recall  f1-score   support\n",
      "\n",
      "           0       1.00      0.98      0.99   1524294\n",
      "           1       0.53      0.94      0.67     27916\n",
      "\n",
      "    accuracy                           0.98   1552210\n",
      "   macro avg       0.76      0.96      0.83   1552210\n",
      "weighted avg       0.99      0.98      0.99   1552210\n",
      "\n"
     ]
    }
   ],
   "source": [
    "data= pd.read_csv('ultimate_total.csv',index_col=False)\n",
    "data=data.drop(['EtCO2','BaseExcess','HCO3','AST','Bilirubin_direct','Lactate','TroponinI'],axis=1)\n",
    "Y_test=data['SepsisLabel']\n",
    "data=data.drop(['SepsisLabel'],axis=1)\n",
    "xg_test = clf1.DMatrix(data, label=Y_test)\n",
    "from sklearn.metrics import classification_report,f1_score,r2_score\n",
    "print(classification_report(Y_test, (model.predict(xg_test)>0.5).astype(int)))\n",
    "print('F1 score:', f1_score(Y_test, (model.predict(xg_test)>0.5).astype(int)))\n",
    "print('r2 score:', r2_score(Y_test, (model.predict(xg_test)>0.5).astype(int)))\n"
   ]
  },
  {
   "cell_type": "code",
   "execution_count": null,
   "metadata": {},
   "outputs": [],
   "source": [
    "data1= pd.read_csv('test.csv',index_col=False)\n",
    "data1=data1.drop(['EtCO2','BaseExcess','HCO3','AST','Bilirubin_direct','Lactate','TroponinI'],axis=1)\n",
    "Y_test=data1['SepsisLabel']\n",
    "data1=data1.drop(['SepsisLabel'],axis=1)\n",
    "xg_test = clf1.DMatrix(data1, label=Y_test)\n",
    "from sklearn.metrics import classification_report,f1_score,r2_score\n",
    "print(classification_report(Y_test, (model.predict(xg_test)>0.5).astype(int)))\n",
    "print('F1 score:', f1_score(Y_test, (model.predict(xg_test)>0.5).astype(int)))\n",
    "print('r2 score:', r2_score(Y_test, (model.predict(xg_test)>0.5).astype(int)))\n"
   ]
  },
  {
   "cell_type": "code",
   "execution_count": null,
   "metadata": {},
   "outputs": [],
   "source": []
  },
  {
   "cell_type": "code",
   "execution_count": null,
   "metadata": {},
   "outputs": [],
   "source": []
  },
  {
   "cell_type": "code",
   "execution_count": null,
   "metadata": {},
   "outputs": [],
   "source": [
    "model = clf1.train(params, xg_train_1, 50, xgb_model=xgb_model)\n",
    "model.save_model('model.model')\n",
    "xgb_model = 'model.model'\n",
    "xgb_model = None"
   ]
  },
  {
   "cell_type": "code",
   "execution_count": null,
   "metadata": {},
   "outputs": [],
   "source": [
    "seed = 7\n",
    "test_size = 0.33\n",
    "X_train, X_test, y_train, y_test = train_test_split(df, Y_train, test_size=test_size, random_state=seed)"
   ]
  },
  {
   "cell_type": "code",
   "execution_count": null,
   "metadata": {},
   "outputs": [],
   "source": [
    "xg_train_1 = clf1.DMatrix(X_train, label=y_train)\n",
    "xg_test = clf1.DMatrix(X_test, label=y_test)\n",
    "model = clf1.train(params, xg_train_1, xgb_model=None,num_boost_round=1000,verbose_eval=True)"
   ]
  },
  {
   "cell_type": "code",
   "execution_count": null,
   "metadata": {},
   "outputs": [],
   "source": [
    "from sklearn.metrics import classification_report,f1_score,r2_score\n",
    "print(classification_report(y_test, (model.predict(xg_test)>0.5).astype(int)))\n",
    "print('F1 score:', f1_score(y_test, (model.predict(xg_test)>0.5).astype(int)))\n",
    "print('r2 score:', r2_score(y_test, (model.predict(xg_test)>0.5).astype(int)))"
   ]
  },
  {
   "cell_type": "code",
   "execution_count": null,
   "metadata": {},
   "outputs": [],
   "source": []
  }
 ],
 "metadata": {
  "kernelspec": {
   "display_name": "Python 3",
   "language": "python",
   "name": "python3"
  },
  "language_info": {
   "codemirror_mode": {
    "name": "ipython",
    "version": 3
   },
   "file_extension": ".py",
   "mimetype": "text/x-python",
   "name": "python",
   "nbconvert_exporter": "python",
   "pygments_lexer": "ipython3",
   "version": "3.6.9"
  }
 },
 "nbformat": 4,
 "nbformat_minor": 2
}
